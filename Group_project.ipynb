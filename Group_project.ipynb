{
 "cells": [
  {
   "cell_type": "code",
   "execution_count": 1,
   "id": "cdee9e5c-e15a-4859-9acf-3a2fea58eb9e",
   "metadata": {},
   "outputs": [],
   "source": [
    "import requests\n",
    "from bs4 import BeautifulSoup\n",
    "import numpy as np"
   ]
  },
  {
   "cell_type": "code",
   "execution_count": 2,
   "id": "a86f07b3-5184-4cac-87bb-a013f185060b",
   "metadata": {},
   "outputs": [
    {
     "name": "stdout",
     "output_type": "stream",
     "text": [
      "Success\n"
     ]
    }
   ],
   "source": [
    "url = \"https://www.nyc.gov/site/tlc/about/tlc-trip-record-data.page\"\n",
    "response = requests.get(url)\n",
    "if response.status_code == 200:\n",
    "    print(\"Success\")\n",
    "else:\n",
    "    print(\"Failure\")"
   ]
  },
  {
   "cell_type": "code",
   "execution_count": 3,
   "id": "7c67856d-8b4e-4634-8638-893663cc7789",
   "metadata": {
    "tags": []
   },
   "outputs": [],
   "source": [
    "import re\n",
    "results_page = BeautifulSoup(response.content,'lxml')"
   ]
  },
  {
   "cell_type": "markdown",
   "id": "d3c2ae24-8be3-439c-852c-b39b0287dfbf",
   "metadata": {},
   "source": [
    "#### get data from January 2009 through June 2015"
   ]
  },
  {
   "cell_type": "code",
   "execution_count": 13,
   "id": "051579e2-0f85-4859-a9b1-2146709be0ee",
   "metadata": {
    "tags": []
   },
   "outputs": [],
   "source": [
    "def get_taxi_link():\n",
    "    link_array = []\n",
    "    pattern = r\"(http.*yellow_tripdata_(20[0|1][0-9])-(0?\\d*).parquet)\"\n",
    "    # pattern = \"https://d37ci6vzurychx.cloudfront.net/trip-data/yellow_tripdata_2015-01.parquet\"\n",
    "    match = re.findall(pattern, str(results_page))\n",
    "    for i in match:\n",
    "        if int(i[1]) < 2015:\n",
    "            link_array.append(i[0])\n",
    "        elif int(i[1]) == 2015 and int(i[2]) <= 6:\n",
    "            link_array.append(i[0])\n",
    "    return link_array"
   ]
  },
  {
   "cell_type": "code",
   "execution_count": 14,
   "id": "0243e804-b2fe-4e49-aaf7-d09f9e795505",
   "metadata": {
    "jupyter": {
     "outputs_hidden": true
    },
    "scrolled": true,
    "tags": []
   },
   "outputs": [
    {
     "data": {
      "text/plain": [
       "['https://d37ci6vzurychx.cloudfront.net/trip-data/yellow_tripdata_2015-01.parquet',\n",
       " 'https://d37ci6vzurychx.cloudfront.net/trip-data/yellow_tripdata_2015-02.parquet',\n",
       " 'https://d37ci6vzurychx.cloudfront.net/trip-data/yellow_tripdata_2015-03.parquet',\n",
       " 'https://d37ci6vzurychx.cloudfront.net/trip-data/yellow_tripdata_2015-04.parquet',\n",
       " 'https://d37ci6vzurychx.cloudfront.net/trip-data/yellow_tripdata_2015-05.parquet',\n",
       " 'https://d37ci6vzurychx.cloudfront.net/trip-data/yellow_tripdata_2015-06.parquet',\n",
       " 'https://d37ci6vzurychx.cloudfront.net/trip-data/yellow_tripdata_2014-01.parquet',\n",
       " 'https://d37ci6vzurychx.cloudfront.net/trip-data/yellow_tripdata_2014-02.parquet',\n",
       " 'https://d37ci6vzurychx.cloudfront.net/trip-data/yellow_tripdata_2014-03.parquet',\n",
       " 'https://d37ci6vzurychx.cloudfront.net/trip-data/yellow_tripdata_2014-04.parquet',\n",
       " 'https://d37ci6vzurychx.cloudfront.net/trip-data/yellow_tripdata_2014-05.parquet',\n",
       " 'https://d37ci6vzurychx.cloudfront.net/trip-data/yellow_tripdata_2014-06.parquet',\n",
       " 'https://d37ci6vzurychx.cloudfront.net/trip-data/yellow_tripdata_2014-07.parquet',\n",
       " 'https://d37ci6vzurychx.cloudfront.net/trip-data/yellow_tripdata_2014-08.parquet',\n",
       " 'https://d37ci6vzurychx.cloudfront.net/trip-data/yellow_tripdata_2014-09.parquet',\n",
       " 'https://d37ci6vzurychx.cloudfront.net/trip-data/yellow_tripdata_2014-10.parquet',\n",
       " 'https://d37ci6vzurychx.cloudfront.net/trip-data/yellow_tripdata_2014-11.parquet',\n",
       " 'https://d37ci6vzurychx.cloudfront.net/trip-data/yellow_tripdata_2014-12.parquet',\n",
       " 'https://d37ci6vzurychx.cloudfront.net/trip-data/yellow_tripdata_2013-01.parquet',\n",
       " 'https://d37ci6vzurychx.cloudfront.net/trip-data/yellow_tripdata_2013-02.parquet',\n",
       " 'https://d37ci6vzurychx.cloudfront.net/trip-data/yellow_tripdata_2013-03.parquet',\n",
       " 'https://d37ci6vzurychx.cloudfront.net/trip-data/yellow_tripdata_2013-04.parquet',\n",
       " 'https://d37ci6vzurychx.cloudfront.net/trip-data/yellow_tripdata_2013-05.parquet',\n",
       " 'https://d37ci6vzurychx.cloudfront.net/trip-data/yellow_tripdata_2013-06.parquet',\n",
       " 'https://d37ci6vzurychx.cloudfront.net/trip-data/yellow_tripdata_2013-07.parquet',\n",
       " 'https://d37ci6vzurychx.cloudfront.net/trip-data/yellow_tripdata_2013-08.parquet',\n",
       " 'https://d37ci6vzurychx.cloudfront.net/trip-data/yellow_tripdata_2013-09.parquet',\n",
       " 'https://d37ci6vzurychx.cloudfront.net/trip-data/yellow_tripdata_2013-10.parquet',\n",
       " 'https://d37ci6vzurychx.cloudfront.net/trip-data/yellow_tripdata_2013-11.parquet',\n",
       " 'https://d37ci6vzurychx.cloudfront.net/trip-data/yellow_tripdata_2013-12.parquet',\n",
       " 'https://d37ci6vzurychx.cloudfront.net/trip-data/yellow_tripdata_2012-01.parquet',\n",
       " 'https://d37ci6vzurychx.cloudfront.net/trip-data/yellow_tripdata_2012-02.parquet',\n",
       " 'https://d37ci6vzurychx.cloudfront.net/trip-data/yellow_tripdata_2012-03.parquet',\n",
       " 'https://d37ci6vzurychx.cloudfront.net/trip-data/yellow_tripdata_2012-04.parquet',\n",
       " 'https://d37ci6vzurychx.cloudfront.net/trip-data/yellow_tripdata_2012-05.parquet',\n",
       " 'https://d37ci6vzurychx.cloudfront.net/trip-data/yellow_tripdata_2012-06.parquet',\n",
       " 'https://d37ci6vzurychx.cloudfront.net/trip-data/yellow_tripdata_2012-07.parquet',\n",
       " 'https://d37ci6vzurychx.cloudfront.net/trip-data/yellow_tripdata_2012-08.parquet',\n",
       " 'https://d37ci6vzurychx.cloudfront.net/trip-data/yellow_tripdata_2012-09.parquet',\n",
       " 'https://d37ci6vzurychx.cloudfront.net/trip-data/yellow_tripdata_2012-10.parquet',\n",
       " 'https://d37ci6vzurychx.cloudfront.net/trip-data/yellow_tripdata_2012-11.parquet',\n",
       " 'https://d37ci6vzurychx.cloudfront.net/trip-data/yellow_tripdata_2012-12.parquet',\n",
       " 'https://d37ci6vzurychx.cloudfront.net/trip-data/yellow_tripdata_2011-01.parquet',\n",
       " 'https://d37ci6vzurychx.cloudfront.net/trip-data/yellow_tripdata_2011-02.parquet',\n",
       " 'https://d37ci6vzurychx.cloudfront.net/trip-data/yellow_tripdata_2011-03.parquet',\n",
       " 'https://d37ci6vzurychx.cloudfront.net/trip-data/yellow_tripdata_2011-04.parquet',\n",
       " 'https://d37ci6vzurychx.cloudfront.net/trip-data/yellow_tripdata_2011-05.parquet',\n",
       " 'https://d37ci6vzurychx.cloudfront.net/trip-data/yellow_tripdata_2011-06.parquet',\n",
       " 'https://d37ci6vzurychx.cloudfront.net/trip-data/yellow_tripdata_2011-07.parquet',\n",
       " 'https://d37ci6vzurychx.cloudfront.net/trip-data/yellow_tripdata_2011-08.parquet',\n",
       " 'https://d37ci6vzurychx.cloudfront.net/trip-data/yellow_tripdata_2011-09.parquet',\n",
       " 'https://d37ci6vzurychx.cloudfront.net/trip-data/yellow_tripdata_2011-10.parquet',\n",
       " 'https://d37ci6vzurychx.cloudfront.net/trip-data/yellow_tripdata_2011-11.parquet',\n",
       " 'https://d37ci6vzurychx.cloudfront.net/trip-data/yellow_tripdata_2011-12.parquet',\n",
       " 'https://d37ci6vzurychx.cloudfront.net/trip-data/yellow_tripdata_2010-01.parquet',\n",
       " 'https://d37ci6vzurychx.cloudfront.net/trip-data/yellow_tripdata_2010-02.parquet',\n",
       " 'https://d37ci6vzurychx.cloudfront.net/trip-data/yellow_tripdata_2010-03.parquet',\n",
       " 'https://d37ci6vzurychx.cloudfront.net/trip-data/yellow_tripdata_2010-04.parquet',\n",
       " 'https://d37ci6vzurychx.cloudfront.net/trip-data/yellow_tripdata_2010-05.parquet',\n",
       " 'https://d37ci6vzurychx.cloudfront.net/trip-data/yellow_tripdata_2010-06.parquet',\n",
       " 'https://d37ci6vzurychx.cloudfront.net/trip-data/yellow_tripdata_2010-07.parquet',\n",
       " 'https://d37ci6vzurychx.cloudfront.net/trip-data/yellow_tripdata_2010-08.parquet',\n",
       " 'https://d37ci6vzurychx.cloudfront.net/trip-data/yellow_tripdata_2010-09.parquet',\n",
       " 'https://d37ci6vzurychx.cloudfront.net/trip-data/yellow_tripdata_2010-10.parquet',\n",
       " 'https://d37ci6vzurychx.cloudfront.net/trip-data/yellow_tripdata_2010-11.parquet',\n",
       " 'https://d37ci6vzurychx.cloudfront.net/trip-data/yellow_tripdata_2010-12.parquet',\n",
       " 'https://d37ci6vzurychx.cloudfront.net/trip-data/yellow_tripdata_2009-01.parquet',\n",
       " 'https://d37ci6vzurychx.cloudfront.net/trip-data/yellow_tripdata_2009-02.parquet',\n",
       " 'https://d37ci6vzurychx.cloudfront.net/trip-data/yellow_tripdata_2009-03.parquet',\n",
       " 'https://d37ci6vzurychx.cloudfront.net/trip-data/yellow_tripdata_2009-04.parquet',\n",
       " 'https://d37ci6vzurychx.cloudfront.net/trip-data/yellow_tripdata_2009-05.parquet',\n",
       " 'https://d37ci6vzurychx.cloudfront.net/trip-data/yellow_tripdata_2009-06.parquet',\n",
       " 'https://d37ci6vzurychx.cloudfront.net/trip-data/yellow_tripdata_2009-07.parquet',\n",
       " 'https://d37ci6vzurychx.cloudfront.net/trip-data/yellow_tripdata_2009-08.parquet',\n",
       " 'https://d37ci6vzurychx.cloudfront.net/trip-data/yellow_tripdata_2009-09.parquet',\n",
       " 'https://d37ci6vzurychx.cloudfront.net/trip-data/yellow_tripdata_2009-10.parquet',\n",
       " 'https://d37ci6vzurychx.cloudfront.net/trip-data/yellow_tripdata_2009-11.parquet',\n",
       " 'https://d37ci6vzurychx.cloudfront.net/trip-data/yellow_tripdata_2009-12.parquet']"
      ]
     },
     "execution_count": 14,
     "metadata": {},
     "output_type": "execute_result"
    }
   ],
   "source": [
    "link = get_taxi_link()\n",
    "link"
   ]
  },
  {
   "cell_type": "code",
   "execution_count": 6,
   "id": "78ee773c-01b7-4f0b-8baa-ef5174446f82",
   "metadata": {},
   "outputs": [
    {
     "data": {
      "text/plain": [
       "'yellow_tripdata_2019-01.parquet'"
      ]
     },
     "execution_count": 6,
     "metadata": {},
     "output_type": "execute_result"
    }
   ],
   "source": [
    "pattern = r\"yellow.*.parquet\"\n",
    "match = re.search(pattern, link[0])\n",
    "match.group()"
   ]
  },
  {
   "cell_type": "code",
   "execution_count": 45,
   "id": "3a7aa3b2-54c5-4d6c-b7f2-992ca3149ff1",
   "metadata": {},
   "outputs": [
    {
     "name": "stdout",
     "output_type": "stream",
     "text": [
      "true\n"
     ]
    }
   ],
   "source": [
    "import os\n",
    "\n",
    "if os.path.exists(\"yellow_tripdata_2009-01.parquet\"):\n",
    "    print(\"true\")\n",
    "else:\n",
    "    print(\"doesn't exist\")"
   ]
  },
  {
   "cell_type": "markdown",
   "id": "438d6554",
   "metadata": {},
   "source": [
    "download data to local folder"
   ]
  },
  {
   "cell_type": "code",
   "execution_count": 25,
   "id": "305d3049-8c43-477c-98a3-2d69c9ea33e5",
   "metadata": {},
   "outputs": [],
   "source": [
    "import os\n",
    "\n",
    "pattern = r\"yellow.*.parquet\"\n",
    "for taxi_data_url in link:\n",
    "    match = re.search(pattern, taxi_data_url)\n",
    "    name_of_file = match.group()\n",
    "    \n",
    "    # to make sure we're not re-downloading the same file again\n",
    "    if not os.path.exists(name_of_file):\n",
    "        response = requests.get(taxi_data_url, stream=True)\n",
    "        with open(name_of_file, 'wb') as f:\n",
    "            for chunk in response.iter_content(chunk_size=1024):\n",
    "                if chunk:\n",
    "                    f.write(chunk)\n",
    "                "
   ]
  },
  {
   "cell_type": "code",
   "execution_count": 8,
   "id": "fad4c1fa-049d-4e8d-b894-60112fc1d41e",
   "metadata": {},
   "outputs": [
    {
     "data": {
      "text/plain": [
       "'https://d37ci6vzurychx.cloudfront.net/trip-data/yellow_tripdata_2019-01.parquet'"
      ]
     },
     "execution_count": 8,
     "metadata": {},
     "output_type": "execute_result"
    }
   ],
   "source": [
    "link[0]"
   ]
  },
  {
   "cell_type": "markdown",
   "id": "39471846-b1f1-4b15-bcca-6373a24317d9",
   "metadata": {},
   "source": [
    "#### get all column names to normalize columns"
   ]
  },
  {
   "cell_type": "code",
   "execution_count": null,
   "id": "1da7169d",
   "metadata": {},
   "outputs": [],
   "source": [
    "import os\n",
    "import re\n",
    "\n",
    "import pandas as pd\n",
    "from pyarrow.parquet import ParquetFile\n",
    "\n",
    "pattern = r\"yellow.*.parquet\"\n",
    "parquet_column_list = []\n",
    "\n",
    "for file in os.listdir():\n",
    "    match = re.match(pattern, file)\n",
    "    if match:\n",
    "        file_name = match.group()\n",
    "        df = pd.read_parquet(file_name)\n",
    "        column_name = df.columns.to_list()\n",
    "        if column_name not in parquet_column_list:\n",
    "            parquet_column_list.append(column_name)"
   ]
  },
  {
   "cell_type": "code",
   "execution_count": 4,
   "id": "43c429d0",
   "metadata": {
    "scrolled": true
   },
   "outputs": [
    {
     "data": {
      "text/plain": [
       "[['VendorID',\n",
       "  'tpep_pickup_datetime',\n",
       "  'tpep_dropoff_datetime',\n",
       "  'passenger_count',\n",
       "  'trip_distance',\n",
       "  'RatecodeID',\n",
       "  'store_and_fwd_flag',\n",
       "  'PULocationID',\n",
       "  'DOLocationID',\n",
       "  'payment_type',\n",
       "  'fare_amount',\n",
       "  'extra',\n",
       "  'mta_tax',\n",
       "  'tip_amount',\n",
       "  'tolls_amount',\n",
       "  'improvement_surcharge',\n",
       "  'total_amount',\n",
       "  'congestion_surcharge',\n",
       "  'airport_fee'],\n",
       " ['vendor_name',\n",
       "  'Trip_Pickup_DateTime',\n",
       "  'Trip_Dropoff_DateTime',\n",
       "  'Passenger_Count',\n",
       "  'Trip_Distance',\n",
       "  'Start_Lon',\n",
       "  'Start_Lat',\n",
       "  'Rate_Code',\n",
       "  'store_and_forward',\n",
       "  'End_Lon',\n",
       "  'End_Lat',\n",
       "  'Payment_Type',\n",
       "  'Fare_Amt',\n",
       "  'surcharge',\n",
       "  'mta_tax',\n",
       "  'Tip_Amt',\n",
       "  'Tolls_Amt',\n",
       "  'Total_Amt'],\n",
       " ['vendor_id',\n",
       "  'pickup_datetime',\n",
       "  'dropoff_datetime',\n",
       "  'passenger_count',\n",
       "  'trip_distance',\n",
       "  'pickup_longitude',\n",
       "  'pickup_latitude',\n",
       "  'rate_code',\n",
       "  'store_and_fwd_flag',\n",
       "  'dropoff_longitude',\n",
       "  'dropoff_latitude',\n",
       "  'payment_type',\n",
       "  'fare_amount',\n",
       "  'surcharge',\n",
       "  'mta_tax',\n",
       "  'tip_amount',\n",
       "  'tolls_amount',\n",
       "  'total_amount']]"
      ]
     },
     "execution_count": 4,
     "metadata": {},
     "output_type": "execute_result"
    }
   ],
   "source": [
    "parquet_column_list"
   ]
  },
  {
   "cell_type": "code",
   "execution_count": 5,
   "id": "e671f03b",
   "metadata": {},
   "outputs": [],
   "source": [
    "import pandas as pd"
   ]
  },
  {
   "cell_type": "code",
   "execution_count": 6,
   "id": "630bc9fa",
   "metadata": {
    "scrolled": false
   },
   "outputs": [
    {
     "data": {
      "text/html": [
       "<div>\n",
       "<style scoped>\n",
       "    .dataframe tbody tr th:only-of-type {\n",
       "        vertical-align: middle;\n",
       "    }\n",
       "\n",
       "    .dataframe tbody tr th {\n",
       "        vertical-align: top;\n",
       "    }\n",
       "\n",
       "    .dataframe thead th {\n",
       "        text-align: right;\n",
       "    }\n",
       "</style>\n",
       "<table border=\"1\" class=\"dataframe\">\n",
       "  <thead>\n",
       "    <tr style=\"text-align: right;\">\n",
       "      <th></th>\n",
       "      <th>Unnamed: 0</th>\n",
       "      <th>key</th>\n",
       "      <th>fare_amount</th>\n",
       "      <th>pickup_datetime</th>\n",
       "      <th>pickup_longitude</th>\n",
       "      <th>pickup_latitude</th>\n",
       "      <th>dropoff_longitude</th>\n",
       "      <th>dropoff_latitude</th>\n",
       "      <th>passenger_count</th>\n",
       "    </tr>\n",
       "  </thead>\n",
       "  <tbody>\n",
       "    <tr>\n",
       "      <th>0</th>\n",
       "      <td>24238194</td>\n",
       "      <td>2015-05-07 19:52:06.0000003</td>\n",
       "      <td>7.5</td>\n",
       "      <td>2015-05-07 19:52:06 UTC</td>\n",
       "      <td>-73.999817</td>\n",
       "      <td>40.738354</td>\n",
       "      <td>-73.999512</td>\n",
       "      <td>40.723217</td>\n",
       "      <td>1</td>\n",
       "    </tr>\n",
       "    <tr>\n",
       "      <th>1</th>\n",
       "      <td>27835199</td>\n",
       "      <td>2009-07-17 20:04:56.0000002</td>\n",
       "      <td>7.7</td>\n",
       "      <td>2009-07-17 20:04:56 UTC</td>\n",
       "      <td>-73.994355</td>\n",
       "      <td>40.728225</td>\n",
       "      <td>-73.994710</td>\n",
       "      <td>40.750325</td>\n",
       "      <td>1</td>\n",
       "    </tr>\n",
       "    <tr>\n",
       "      <th>2</th>\n",
       "      <td>44984355</td>\n",
       "      <td>2009-08-24 21:45:00.00000061</td>\n",
       "      <td>12.9</td>\n",
       "      <td>2009-08-24 21:45:00 UTC</td>\n",
       "      <td>-74.005043</td>\n",
       "      <td>40.740770</td>\n",
       "      <td>-73.962565</td>\n",
       "      <td>40.772647</td>\n",
       "      <td>1</td>\n",
       "    </tr>\n",
       "    <tr>\n",
       "      <th>3</th>\n",
       "      <td>25894730</td>\n",
       "      <td>2009-06-26 08:22:21.0000001</td>\n",
       "      <td>5.3</td>\n",
       "      <td>2009-06-26 08:22:21 UTC</td>\n",
       "      <td>-73.976124</td>\n",
       "      <td>40.790844</td>\n",
       "      <td>-73.965316</td>\n",
       "      <td>40.803349</td>\n",
       "      <td>3</td>\n",
       "    </tr>\n",
       "    <tr>\n",
       "      <th>4</th>\n",
       "      <td>17610152</td>\n",
       "      <td>2014-08-28 17:47:00.000000188</td>\n",
       "      <td>16.0</td>\n",
       "      <td>2014-08-28 17:47:00 UTC</td>\n",
       "      <td>-73.925023</td>\n",
       "      <td>40.744085</td>\n",
       "      <td>-73.973082</td>\n",
       "      <td>40.761247</td>\n",
       "      <td>5</td>\n",
       "    </tr>\n",
       "    <tr>\n",
       "      <th>...</th>\n",
       "      <td>...</td>\n",
       "      <td>...</td>\n",
       "      <td>...</td>\n",
       "      <td>...</td>\n",
       "      <td>...</td>\n",
       "      <td>...</td>\n",
       "      <td>...</td>\n",
       "      <td>...</td>\n",
       "      <td>...</td>\n",
       "    </tr>\n",
       "    <tr>\n",
       "      <th>199995</th>\n",
       "      <td>42598914</td>\n",
       "      <td>2012-10-28 10:49:00.00000053</td>\n",
       "      <td>3.0</td>\n",
       "      <td>2012-10-28 10:49:00 UTC</td>\n",
       "      <td>-73.987042</td>\n",
       "      <td>40.739367</td>\n",
       "      <td>-73.986525</td>\n",
       "      <td>40.740297</td>\n",
       "      <td>1</td>\n",
       "    </tr>\n",
       "    <tr>\n",
       "      <th>199996</th>\n",
       "      <td>16382965</td>\n",
       "      <td>2014-03-14 01:09:00.0000008</td>\n",
       "      <td>7.5</td>\n",
       "      <td>2014-03-14 01:09:00 UTC</td>\n",
       "      <td>-73.984722</td>\n",
       "      <td>40.736837</td>\n",
       "      <td>-74.006672</td>\n",
       "      <td>40.739620</td>\n",
       "      <td>1</td>\n",
       "    </tr>\n",
       "    <tr>\n",
       "      <th>199997</th>\n",
       "      <td>27804658</td>\n",
       "      <td>2009-06-29 00:42:00.00000078</td>\n",
       "      <td>30.9</td>\n",
       "      <td>2009-06-29 00:42:00 UTC</td>\n",
       "      <td>-73.986017</td>\n",
       "      <td>40.756487</td>\n",
       "      <td>-73.858957</td>\n",
       "      <td>40.692588</td>\n",
       "      <td>2</td>\n",
       "    </tr>\n",
       "    <tr>\n",
       "      <th>199998</th>\n",
       "      <td>20259894</td>\n",
       "      <td>2015-05-20 14:56:25.0000004</td>\n",
       "      <td>14.5</td>\n",
       "      <td>2015-05-20 14:56:25 UTC</td>\n",
       "      <td>-73.997124</td>\n",
       "      <td>40.725452</td>\n",
       "      <td>-73.983215</td>\n",
       "      <td>40.695415</td>\n",
       "      <td>1</td>\n",
       "    </tr>\n",
       "    <tr>\n",
       "      <th>199999</th>\n",
       "      <td>11951496</td>\n",
       "      <td>2010-05-15 04:08:00.00000076</td>\n",
       "      <td>14.1</td>\n",
       "      <td>2010-05-15 04:08:00 UTC</td>\n",
       "      <td>-73.984395</td>\n",
       "      <td>40.720077</td>\n",
       "      <td>-73.985508</td>\n",
       "      <td>40.768793</td>\n",
       "      <td>1</td>\n",
       "    </tr>\n",
       "  </tbody>\n",
       "</table>\n",
       "<p>200000 rows × 9 columns</p>\n",
       "</div>"
      ],
      "text/plain": [
       "        Unnamed: 0                            key  fare_amount  \\\n",
       "0         24238194    2015-05-07 19:52:06.0000003          7.5   \n",
       "1         27835199    2009-07-17 20:04:56.0000002          7.7   \n",
       "2         44984355   2009-08-24 21:45:00.00000061         12.9   \n",
       "3         25894730    2009-06-26 08:22:21.0000001          5.3   \n",
       "4         17610152  2014-08-28 17:47:00.000000188         16.0   \n",
       "...            ...                            ...          ...   \n",
       "199995    42598914   2012-10-28 10:49:00.00000053          3.0   \n",
       "199996    16382965    2014-03-14 01:09:00.0000008          7.5   \n",
       "199997    27804658   2009-06-29 00:42:00.00000078         30.9   \n",
       "199998    20259894    2015-05-20 14:56:25.0000004         14.5   \n",
       "199999    11951496   2010-05-15 04:08:00.00000076         14.1   \n",
       "\n",
       "                pickup_datetime  pickup_longitude  pickup_latitude  \\\n",
       "0       2015-05-07 19:52:06 UTC        -73.999817        40.738354   \n",
       "1       2009-07-17 20:04:56 UTC        -73.994355        40.728225   \n",
       "2       2009-08-24 21:45:00 UTC        -74.005043        40.740770   \n",
       "3       2009-06-26 08:22:21 UTC        -73.976124        40.790844   \n",
       "4       2014-08-28 17:47:00 UTC        -73.925023        40.744085   \n",
       "...                         ...               ...              ...   \n",
       "199995  2012-10-28 10:49:00 UTC        -73.987042        40.739367   \n",
       "199996  2014-03-14 01:09:00 UTC        -73.984722        40.736837   \n",
       "199997  2009-06-29 00:42:00 UTC        -73.986017        40.756487   \n",
       "199998  2015-05-20 14:56:25 UTC        -73.997124        40.725452   \n",
       "199999  2010-05-15 04:08:00 UTC        -73.984395        40.720077   \n",
       "\n",
       "        dropoff_longitude  dropoff_latitude  passenger_count  \n",
       "0              -73.999512         40.723217                1  \n",
       "1              -73.994710         40.750325                1  \n",
       "2              -73.962565         40.772647                1  \n",
       "3              -73.965316         40.803349                3  \n",
       "4              -73.973082         40.761247                5  \n",
       "...                   ...               ...              ...  \n",
       "199995         -73.986525         40.740297                1  \n",
       "199996         -74.006672         40.739620                1  \n",
       "199997         -73.858957         40.692588                2  \n",
       "199998         -73.983215         40.695415                1  \n",
       "199999         -73.985508         40.768793                1  \n",
       "\n",
       "[200000 rows x 9 columns]"
      ]
     },
     "execution_count": 6,
     "metadata": {},
     "output_type": "execute_result"
    }
   ],
   "source": [
    "uber_data = pd.read_csv('uber_rides_sample.csv')\n",
    "uber_data"
   ]
  },
  {
   "cell_type": "code",
   "execution_count": 9,
   "id": "bf60ff35",
   "metadata": {},
   "outputs": [],
   "source": [
    "# change the format of key to datetime\n",
    "uber_data['key'] = pd.to_datetime(uber_data['key'])"
   ]
  },
  {
   "cell_type": "markdown",
   "id": "73f5fd0e",
   "metadata": {},
   "source": [
    "examine how many rows are there for each year and month"
   ]
  },
  {
   "cell_type": "code",
   "execution_count": 13,
   "id": "24a3fe47",
   "metadata": {},
   "outputs": [],
   "source": [
    "examine_df = pd.concat([uber_data['key'].dt.year, uber_data['key'].dt.month], axis=1)\n",
    "examine_df.columns = ['year', 'month']"
   ]
  },
  {
   "cell_type": "code",
   "execution_count": 17,
   "id": "46fb3f4c",
   "metadata": {
    "scrolled": true
   },
   "outputs": [
    {
     "data": {
      "text/plain": [
       "year  month\n",
       "2009  1        2555\n",
       "      2        2292\n",
       "      3        2703\n",
       "      4        2574\n",
       "      5        2660\n",
       "               ... \n",
       "2015  2        2225\n",
       "      3        2362\n",
       "      4        2339\n",
       "      5        2449\n",
       "      6        2161\n",
       "Length: 78, dtype: int64"
      ]
     },
     "execution_count": 17,
     "metadata": {},
     "output_type": "execute_result"
    }
   ],
   "source": [
    "examine_df.groupby(['year', 'month']).size()"
   ]
  },
  {
   "cell_type": "code",
   "execution_count": 18,
   "id": "670e5613",
   "metadata": {},
   "outputs": [
    {
     "data": {
      "text/plain": [
       "2564.102564102564"
      ]
     },
     "execution_count": 18,
     "metadata": {},
     "output_type": "execute_result"
    }
   ],
   "source": [
    "# number of rows needed for each month\n",
    "200000/78"
   ]
  },
  {
   "cell_type": "markdown",
   "id": "c8fb764a",
   "metadata": {},
   "source": [
    "#### according to the average number of rows in each month each year in the sample uber dataset, we do the following:\n",
    "- sample 2600 columns from the yellow taxi dataset\n",
    "- remove unecessary column and normalize the yellow taxi columns by mapping their names to match the uber dataset"
   ]
  },
  {
   "cell_type": "code",
   "execution_count": 36,
   "id": "8b8c2c4d",
   "metadata": {},
   "outputs": [],
   "source": [
    "def get_center_long(LocationID):\n",
    "    return 0\n",
    "def get_center_lat(LocationID):\n",
    "    return 0"
   ]
  },
  {
   "cell_type": "code",
   "execution_count": 42,
   "id": "4bcdb9b1",
   "metadata": {},
   "outputs": [],
   "source": [
    "yellow_taxi_data = pd.DataFrame()\n",
    "pattern = r\"yellow.*.parquet\"\n",
    "\n",
    "count = 0\n",
    "for file in os.listdir():\n",
    "    match = re.match(pattern, file)\n",
    "    if match:\n",
    "        file_name = match.group()\n",
    "        df = pd.read_parquet(file_name)\n",
    "        sample_df = df.sample(2600)\n",
    "        column_name = sample_df.columns.to_list()\n",
    "        \n",
    "        if parquet_column_list.index(column_name) == 0:\n",
    "            sample_df_column_filtered = sample_df.loc[:,['fare_amount',\n",
    "                                                         'tpep_pickup_datetime',\n",
    "                                                          'passenger_count']]\n",
    "            #'PULocationID', 'DOLocationID' will be transformed to longitude and latitude\n",
    "            sample_df_column_filtered['pickup_longitude'] = sample_df_column_filtered.apply(get_center_long)\n",
    "            sample_df_column_filtered['pickup_latitude'] = sample_df_column_filtered.apply(get_center_lat)\n",
    "            sample_df_column_filtered['dropoff_longitude'] = sample_df_column_filtered.apply(get_center_long)\n",
    "            sample_df_column_filtered['dropoff_latitude'] = sample_df_column_filtered.apply(get_center_lat)\n",
    "            sample_df_column_filtered.columns = ['fare_amount', 'pickup_datetime', 'passenger_count', 'pickup_longitude', 'pickup_latitude', 'dropoff_longitude', 'dropoff_latitude']\n",
    "        elif parquet_column_list.index(column_name) == 1:\n",
    "            sample_df_column_filtered = sample_df.loc[:,[ 'Trip_Pickup_DateTime',            \n",
    "                                                          'Passenger_Count',            \n",
    "                                                          'Start_Lon',\n",
    "                                                          'Start_Lat',              \n",
    "                                                          'End_Lon',\n",
    "                                                          'End_Lat',\n",
    "                                                          'Fare_Amt']]\n",
    "            sample_df_column_filtered.columns = ['pickup_datetime', 'passenger_count', 'pickup_longitude', 'pickup_latitude', 'dropoff_longitude', 'dropoff_latitude', 'fare_amount']\n",
    "        elif parquet_column_list.index(column_name) == 2:\n",
    "            sample_df_column_filtered = sample_df.loc[:,[ 'pickup_datetime',  \n",
    "                                                          'passenger_count',\n",
    "                                                          'pickup_longitude',\n",
    "                                                          'pickup_latitude',\n",
    "                                                          'dropoff_longitude',\n",
    "                                                          'dropoff_latitude',  \n",
    "                                                          'fare_amount']]\n",
    "        yellow_taxi_data = pd.concat([yellow_taxi_data, sample_df_column_filtered])\n",
    "        count += 1"
   ]
  },
  {
   "cell_type": "code",
   "execution_count": 43,
   "id": "c6a7941c",
   "metadata": {},
   "outputs": [
    {
     "data": {
      "text/html": [
       "<div>\n",
       "<style scoped>\n",
       "    .dataframe tbody tr th:only-of-type {\n",
       "        vertical-align: middle;\n",
       "    }\n",
       "\n",
       "    .dataframe tbody tr th {\n",
       "        vertical-align: top;\n",
       "    }\n",
       "\n",
       "    .dataframe thead th {\n",
       "        text-align: right;\n",
       "    }\n",
       "</style>\n",
       "<table border=\"1\" class=\"dataframe\">\n",
       "  <thead>\n",
       "    <tr style=\"text-align: right;\">\n",
       "      <th></th>\n",
       "      <th>fare_amount</th>\n",
       "      <th>pickup_datetime</th>\n",
       "      <th>passenger_count</th>\n",
       "      <th>pickup_longitude</th>\n",
       "      <th>pickup_latitude</th>\n",
       "      <th>dropoff_longitude</th>\n",
       "      <th>dropoff_latitude</th>\n",
       "    </tr>\n",
       "  </thead>\n",
       "  <tbody>\n",
       "    <tr>\n",
       "      <th>8954006</th>\n",
       "      <td>3.3</td>\n",
       "      <td>2011-07-20 12:20:00</td>\n",
       "      <td>2</td>\n",
       "      <td>NaN</td>\n",
       "      <td>NaN</td>\n",
       "      <td>NaN</td>\n",
       "      <td>NaN</td>\n",
       "    </tr>\n",
       "    <tr>\n",
       "      <th>8937481</th>\n",
       "      <td>5.7</td>\n",
       "      <td>2011-07-20 11:26:00</td>\n",
       "      <td>1</td>\n",
       "      <td>NaN</td>\n",
       "      <td>NaN</td>\n",
       "      <td>NaN</td>\n",
       "      <td>NaN</td>\n",
       "    </tr>\n",
       "    <tr>\n",
       "      <th>7466248</th>\n",
       "      <td>13.7</td>\n",
       "      <td>2011-07-17 07:13:00</td>\n",
       "      <td>5</td>\n",
       "      <td>NaN</td>\n",
       "      <td>NaN</td>\n",
       "      <td>NaN</td>\n",
       "      <td>NaN</td>\n",
       "    </tr>\n",
       "    <tr>\n",
       "      <th>8633905</th>\n",
       "      <td>16.5</td>\n",
       "      <td>2011-07-19 19:08:11</td>\n",
       "      <td>1</td>\n",
       "      <td>NaN</td>\n",
       "      <td>NaN</td>\n",
       "      <td>NaN</td>\n",
       "      <td>NaN</td>\n",
       "    </tr>\n",
       "    <tr>\n",
       "      <th>1726253</th>\n",
       "      <td>24.9</td>\n",
       "      <td>2011-07-05 15:36:18</td>\n",
       "      <td>1</td>\n",
       "      <td>NaN</td>\n",
       "      <td>NaN</td>\n",
       "      <td>NaN</td>\n",
       "      <td>NaN</td>\n",
       "    </tr>\n",
       "    <tr>\n",
       "      <th>...</th>\n",
       "      <td>...</td>\n",
       "      <td>...</td>\n",
       "      <td>...</td>\n",
       "      <td>...</td>\n",
       "      <td>...</td>\n",
       "      <td>...</td>\n",
       "      <td>...</td>\n",
       "    </tr>\n",
       "    <tr>\n",
       "      <th>6238420</th>\n",
       "      <td>4.5</td>\n",
       "      <td>2009-05-25 12:39:50</td>\n",
       "      <td>3</td>\n",
       "      <td>-73.982551</td>\n",
       "      <td>40.758776</td>\n",
       "      <td>-74.001096</td>\n",
       "      <td>40.762793</td>\n",
       "    </tr>\n",
       "    <tr>\n",
       "      <th>3202282</th>\n",
       "      <td>6.5</td>\n",
       "      <td>2009-05-26 03:00:00</td>\n",
       "      <td>5</td>\n",
       "      <td>-73.992338</td>\n",
       "      <td>40.758823</td>\n",
       "      <td>-74.004393</td>\n",
       "      <td>40.733435</td>\n",
       "    </tr>\n",
       "    <tr>\n",
       "      <th>7795767</th>\n",
       "      <td>8.5</td>\n",
       "      <td>2009-05-26 19:58:01</td>\n",
       "      <td>1</td>\n",
       "      <td>-73.970145</td>\n",
       "      <td>40.759599</td>\n",
       "      <td>-73.987793</td>\n",
       "      <td>40.746540</td>\n",
       "    </tr>\n",
       "    <tr>\n",
       "      <th>4622530</th>\n",
       "      <td>3.7</td>\n",
       "      <td>2009-05-16 12:46:00</td>\n",
       "      <td>2</td>\n",
       "      <td>-73.950548</td>\n",
       "      <td>40.775438</td>\n",
       "      <td>-73.944485</td>\n",
       "      <td>40.783447</td>\n",
       "    </tr>\n",
       "    <tr>\n",
       "      <th>11706874</th>\n",
       "      <td>4.5</td>\n",
       "      <td>2009-05-13 00:40:04</td>\n",
       "      <td>2</td>\n",
       "      <td>-73.969930</td>\n",
       "      <td>40.797503</td>\n",
       "      <td>-73.974618</td>\n",
       "      <td>40.791121</td>\n",
       "    </tr>\n",
       "  </tbody>\n",
       "</table>\n",
       "<p>202800 rows × 7 columns</p>\n",
       "</div>"
      ],
      "text/plain": [
       "          fare_amount      pickup_datetime  passenger_count  pickup_longitude  \\\n",
       "8954006           3.3  2011-07-20 12:20:00                2               NaN   \n",
       "8937481           5.7  2011-07-20 11:26:00                1               NaN   \n",
       "7466248          13.7  2011-07-17 07:13:00                5               NaN   \n",
       "8633905          16.5  2011-07-19 19:08:11                1               NaN   \n",
       "1726253          24.9  2011-07-05 15:36:18                1               NaN   \n",
       "...               ...                  ...              ...               ...   \n",
       "6238420           4.5  2009-05-25 12:39:50                3        -73.982551   \n",
       "3202282           6.5  2009-05-26 03:00:00                5        -73.992338   \n",
       "7795767           8.5  2009-05-26 19:58:01                1        -73.970145   \n",
       "4622530           3.7  2009-05-16 12:46:00                2        -73.950548   \n",
       "11706874          4.5  2009-05-13 00:40:04                2        -73.969930   \n",
       "\n",
       "          pickup_latitude  dropoff_longitude  dropoff_latitude  \n",
       "8954006               NaN                NaN               NaN  \n",
       "8937481               NaN                NaN               NaN  \n",
       "7466248               NaN                NaN               NaN  \n",
       "8633905               NaN                NaN               NaN  \n",
       "1726253               NaN                NaN               NaN  \n",
       "...                   ...                ...               ...  \n",
       "6238420         40.758776         -74.001096         40.762793  \n",
       "3202282         40.758823         -74.004393         40.733435  \n",
       "7795767         40.759599         -73.987793         40.746540  \n",
       "4622530         40.775438         -73.944485         40.783447  \n",
       "11706874        40.797503         -73.974618         40.791121  \n",
       "\n",
       "[202800 rows x 7 columns]"
      ]
     },
     "execution_count": 43,
     "metadata": {},
     "output_type": "execute_result"
    }
   ],
   "source": [
    "yellow_taxi_data"
   ]
  },
  {
   "cell_type": "code",
   "execution_count": 3,
   "id": "22ab4bea-d521-467d-8289-939a6a0b19b6",
   "metadata": {},
   "outputs": [],
   "source": [
    "column_name = df.columns\n"
   ]
  },
  {
   "cell_type": "code",
   "execution_count": 12,
   "id": "027e1343-2af5-4b53-9a1d-4d598a66c47c",
   "metadata": {},
   "outputs": [
    {
     "name": "stdout",
     "output_type": "stream",
     "text": [
      "success\n"
     ]
    }
   ],
   "source": [
    "large_list = [column_name.to_list(), column_name.to_list()]\n",
    "if column_name.to_list() in large_list:\n",
    "    print(\"success\")\n",
    "else:\n",
    "    print(\"fail\")"
   ]
  },
  {
   "cell_type": "code",
   "execution_count": 13,
   "id": "ea781ca1-34e9-45bf-872c-6a8943cae56a",
   "metadata": {},
   "outputs": [],
   "source": [
    "empty_list = []\n",
    "empty_list.append(large_list)"
   ]
  },
  {
   "cell_type": "code",
   "execution_count": 14,
   "id": "2ba603c0-51b5-4dd4-ae5e-73230814ea23",
   "metadata": {
    "collapsed": true,
    "jupyter": {
     "outputs_hidden": true
    },
    "tags": []
   },
   "outputs": [
    {
     "data": {
      "text/plain": [
       "[['VendorID',\n",
       "  'tpep_pickup_datetime',\n",
       "  'tpep_dropoff_datetime',\n",
       "  'passenger_count',\n",
       "  'trip_distance',\n",
       "  'RatecodeID',\n",
       "  'store_and_fwd_flag',\n",
       "  'PULocationID',\n",
       "  'DOLocationID',\n",
       "  'payment_type',\n",
       "  'fare_amount',\n",
       "  'extra',\n",
       "  'mta_tax',\n",
       "  'tip_amount',\n",
       "  'tolls_amount',\n",
       "  'improvement_surcharge',\n",
       "  'total_amount',\n",
       "  'congestion_surcharge',\n",
       "  'airport_fee'],\n",
       " ['VendorID',\n",
       "  'tpep_pickup_datetime',\n",
       "  'tpep_dropoff_datetime',\n",
       "  'passenger_count',\n",
       "  'trip_distance',\n",
       "  'RatecodeID',\n",
       "  'store_and_fwd_flag',\n",
       "  'PULocationID',\n",
       "  'DOLocationID',\n",
       "  'payment_type',\n",
       "  'fare_amount',\n",
       "  'extra',\n",
       "  'mta_tax',\n",
       "  'tip_amount',\n",
       "  'tolls_amount',\n",
       "  'improvement_surcharge',\n",
       "  'total_amount',\n",
       "  'congestion_surcharge',\n",
       "  'airport_fee']]"
      ]
     },
     "execution_count": 14,
     "metadata": {},
     "output_type": "execute_result"
    }
   ],
   "source": [
    "large_list"
   ]
  },
  {
   "cell_type": "code",
   "execution_count": 15,
   "id": "70d33cdb-ad8d-4463-8f9f-d7cb57c4c00e",
   "metadata": {
    "collapsed": true,
    "jupyter": {
     "outputs_hidden": true
    },
    "tags": []
   },
   "outputs": [
    {
     "data": {
      "text/plain": [
       "[[['VendorID',\n",
       "   'tpep_pickup_datetime',\n",
       "   'tpep_dropoff_datetime',\n",
       "   'passenger_count',\n",
       "   'trip_distance',\n",
       "   'RatecodeID',\n",
       "   'store_and_fwd_flag',\n",
       "   'PULocationID',\n",
       "   'DOLocationID',\n",
       "   'payment_type',\n",
       "   'fare_amount',\n",
       "   'extra',\n",
       "   'mta_tax',\n",
       "   'tip_amount',\n",
       "   'tolls_amount',\n",
       "   'improvement_surcharge',\n",
       "   'total_amount',\n",
       "   'congestion_surcharge',\n",
       "   'airport_fee'],\n",
       "  ['VendorID',\n",
       "   'tpep_pickup_datetime',\n",
       "   'tpep_dropoff_datetime',\n",
       "   'passenger_count',\n",
       "   'trip_distance',\n",
       "   'RatecodeID',\n",
       "   'store_and_fwd_flag',\n",
       "   'PULocationID',\n",
       "   'DOLocationID',\n",
       "   'payment_type',\n",
       "   'fare_amount',\n",
       "   'extra',\n",
       "   'mta_tax',\n",
       "   'tip_amount',\n",
       "   'tolls_amount',\n",
       "   'improvement_surcharge',\n",
       "   'total_amount',\n",
       "   'congestion_surcharge',\n",
       "   'airport_fee']]]"
      ]
     },
     "execution_count": 15,
     "metadata": {},
     "output_type": "execute_result"
    }
   ],
   "source": [
    "empty_list"
   ]
  },
  {
   "cell_type": "code",
   "execution_count": 6,
   "id": "8c8bf7b6-d5f5-461a-8553-4aed7df641db",
   "metadata": {},
   "outputs": [
    {
     "data": {
      "text/plain": [
       "array(['VendorID', 'tpep_pickup_datetime', 'tpep_dropoff_datetime',\n",
       "       'passenger_count', 'trip_distance', 'RatecodeID',\n",
       "       'store_and_fwd_flag', 'PULocationID', 'DOLocationID',\n",
       "       'payment_type', 'fare_amount', 'extra', 'mta_tax', 'tip_amount',\n",
       "       'tolls_amount', 'improvement_surcharge', 'total_amount',\n",
       "       'congestion_surcharge', 'airport_fee', 'VendorID',\n",
       "       'tpep_pickup_datetime', 'tpep_dropoff_datetime', 'passenger_count',\n",
       "       'trip_distance', 'RatecodeID', 'store_and_fwd_flag',\n",
       "       'PULocationID', 'DOLocationID', 'payment_type', 'fare_amount',\n",
       "       'extra', 'mta_tax', 'tip_amount', 'tolls_amount',\n",
       "       'improvement_surcharge', 'total_amount', 'congestion_surcharge',\n",
       "       'airport_fee'], dtype=object)"
      ]
     },
     "execution_count": 6,
     "metadata": {},
     "output_type": "execute_result"
    }
   ],
   "source": [
    "import numpy as np\n",
    "#array = np.array()\n",
    "np.concatenate((np.array(column_name), np.array(column_name)))"
   ]
  },
  {
   "cell_type": "code",
   "execution_count": null,
   "id": "415c33b8-10ef-403b-abab-e07899c245bd",
   "metadata": {},
   "outputs": [],
   "source": [
    "filename = \"yellow_tripdata_2009-01.parquet\"\n",
    "df = pd.read_parquet(link[0])"
   ]
  },
  {
   "cell_type": "code",
   "execution_count": 10,
   "id": "648142d5-b587-4930-9811-390976ec2bdd",
   "metadata": {},
   "outputs": [],
   "source": [
    "index = df.columns"
   ]
  },
  {
   "cell_type": "code",
   "execution_count": 11,
   "id": "005bd861-4778-4b67-9e4c-db7e25a5df61",
   "metadata": {},
   "outputs": [
    {
     "data": {
      "text/plain": [
       "array(['VendorID', 'tpep_pickup_datetime', 'tpep_dropoff_datetime',\n",
       "       'passenger_count', 'trip_distance', 'RatecodeID',\n",
       "       'store_and_fwd_flag', 'PULocationID', 'DOLocationID',\n",
       "       'payment_type', 'fare_amount', 'extra', 'mta_tax', 'tip_amount',\n",
       "       'tolls_amount', 'improvement_surcharge', 'total_amount',\n",
       "       'congestion_surcharge', 'airport_fee'], dtype=object)"
      ]
     },
     "execution_count": 11,
     "metadata": {},
     "output_type": "execute_result"
    }
   ],
   "source": [
    "np.array(index)"
   ]
  },
  {
   "cell_type": "code",
   "execution_count": 23,
   "id": "972933ca-678c-4f9d-bdc4-1371b5b778b0",
   "metadata": {
    "tags": []
   },
   "outputs": [
    {
     "data": {
      "text/html": [
       "<div>\n",
       "<style scoped>\n",
       "    .dataframe tbody tr th:only-of-type {\n",
       "        vertical-align: middle;\n",
       "    }\n",
       "\n",
       "    .dataframe tbody tr th {\n",
       "        vertical-align: top;\n",
       "    }\n",
       "\n",
       "    .dataframe thead th {\n",
       "        text-align: right;\n",
       "    }\n",
       "</style>\n",
       "<table border=\"1\" class=\"dataframe\">\n",
       "  <thead>\n",
       "    <tr style=\"text-align: right;\">\n",
       "      <th></th>\n",
       "      <th>OBJECTID</th>\n",
       "      <th>Shape_Leng</th>\n",
       "      <th>Shape_Area</th>\n",
       "      <th>zone</th>\n",
       "      <th>LocationID</th>\n",
       "      <th>borough</th>\n",
       "      <th>geometry</th>\n",
       "    </tr>\n",
       "  </thead>\n",
       "  <tbody>\n",
       "    <tr>\n",
       "      <th>0</th>\n",
       "      <td>1</td>\n",
       "      <td>0.116357</td>\n",
       "      <td>0.000782</td>\n",
       "      <td>Newark Airport</td>\n",
       "      <td>1</td>\n",
       "      <td>EWR</td>\n",
       "      <td>POLYGON ((933100.918 192536.086, 933091.011 19...</td>\n",
       "    </tr>\n",
       "    <tr>\n",
       "      <th>1</th>\n",
       "      <td>2</td>\n",
       "      <td>0.433470</td>\n",
       "      <td>0.004866</td>\n",
       "      <td>Jamaica Bay</td>\n",
       "      <td>2</td>\n",
       "      <td>Queens</td>\n",
       "      <td>MULTIPOLYGON (((1033269.244 172126.008, 103343...</td>\n",
       "    </tr>\n",
       "    <tr>\n",
       "      <th>2</th>\n",
       "      <td>3</td>\n",
       "      <td>0.084341</td>\n",
       "      <td>0.000314</td>\n",
       "      <td>Allerton/Pelham Gardens</td>\n",
       "      <td>3</td>\n",
       "      <td>Bronx</td>\n",
       "      <td>POLYGON ((1026308.770 256767.698, 1026495.593 ...</td>\n",
       "    </tr>\n",
       "    <tr>\n",
       "      <th>3</th>\n",
       "      <td>4</td>\n",
       "      <td>0.043567</td>\n",
       "      <td>0.000112</td>\n",
       "      <td>Alphabet City</td>\n",
       "      <td>4</td>\n",
       "      <td>Manhattan</td>\n",
       "      <td>POLYGON ((992073.467 203714.076, 992068.667 20...</td>\n",
       "    </tr>\n",
       "    <tr>\n",
       "      <th>4</th>\n",
       "      <td>5</td>\n",
       "      <td>0.092146</td>\n",
       "      <td>0.000498</td>\n",
       "      <td>Arden Heights</td>\n",
       "      <td>5</td>\n",
       "      <td>Staten Island</td>\n",
       "      <td>POLYGON ((935843.310 144283.336, 936046.565 14...</td>\n",
       "    </tr>\n",
       "    <tr>\n",
       "      <th>...</th>\n",
       "      <td>...</td>\n",
       "      <td>...</td>\n",
       "      <td>...</td>\n",
       "      <td>...</td>\n",
       "      <td>...</td>\n",
       "      <td>...</td>\n",
       "      <td>...</td>\n",
       "    </tr>\n",
       "    <tr>\n",
       "      <th>258</th>\n",
       "      <td>259</td>\n",
       "      <td>0.126750</td>\n",
       "      <td>0.000395</td>\n",
       "      <td>Woodlawn/Wakefield</td>\n",
       "      <td>259</td>\n",
       "      <td>Bronx</td>\n",
       "      <td>POLYGON ((1025414.782 270986.139, 1025138.624 ...</td>\n",
       "    </tr>\n",
       "    <tr>\n",
       "      <th>259</th>\n",
       "      <td>260</td>\n",
       "      <td>0.133514</td>\n",
       "      <td>0.000422</td>\n",
       "      <td>Woodside</td>\n",
       "      <td>260</td>\n",
       "      <td>Queens</td>\n",
       "      <td>POLYGON ((1011466.966 216463.005, 1011545.889 ...</td>\n",
       "    </tr>\n",
       "    <tr>\n",
       "      <th>260</th>\n",
       "      <td>261</td>\n",
       "      <td>0.027120</td>\n",
       "      <td>0.000034</td>\n",
       "      <td>World Trade Center</td>\n",
       "      <td>261</td>\n",
       "      <td>Manhattan</td>\n",
       "      <td>POLYGON ((980555.204 196138.486, 980570.792 19...</td>\n",
       "    </tr>\n",
       "    <tr>\n",
       "      <th>261</th>\n",
       "      <td>262</td>\n",
       "      <td>0.049064</td>\n",
       "      <td>0.000122</td>\n",
       "      <td>Yorkville East</td>\n",
       "      <td>262</td>\n",
       "      <td>Manhattan</td>\n",
       "      <td>MULTIPOLYGON (((999804.795 224498.527, 999824....</td>\n",
       "    </tr>\n",
       "    <tr>\n",
       "      <th>262</th>\n",
       "      <td>263</td>\n",
       "      <td>0.037017</td>\n",
       "      <td>0.000066</td>\n",
       "      <td>Yorkville West</td>\n",
       "      <td>263</td>\n",
       "      <td>Manhattan</td>\n",
       "      <td>POLYGON ((997493.323 220912.386, 997355.264 22...</td>\n",
       "    </tr>\n",
       "  </tbody>\n",
       "</table>\n",
       "<p>263 rows × 7 columns</p>\n",
       "</div>"
      ],
      "text/plain": [
       "     OBJECTID  Shape_Leng  Shape_Area                     zone  LocationID  \\\n",
       "0           1    0.116357    0.000782           Newark Airport           1   \n",
       "1           2    0.433470    0.004866              Jamaica Bay           2   \n",
       "2           3    0.084341    0.000314  Allerton/Pelham Gardens           3   \n",
       "3           4    0.043567    0.000112            Alphabet City           4   \n",
       "4           5    0.092146    0.000498            Arden Heights           5   \n",
       "..        ...         ...         ...                      ...         ...   \n",
       "258       259    0.126750    0.000395       Woodlawn/Wakefield         259   \n",
       "259       260    0.133514    0.000422                 Woodside         260   \n",
       "260       261    0.027120    0.000034       World Trade Center         261   \n",
       "261       262    0.049064    0.000122           Yorkville East         262   \n",
       "262       263    0.037017    0.000066           Yorkville West         263   \n",
       "\n",
       "           borough                                           geometry  \n",
       "0              EWR  POLYGON ((933100.918 192536.086, 933091.011 19...  \n",
       "1           Queens  MULTIPOLYGON (((1033269.244 172126.008, 103343...  \n",
       "2            Bronx  POLYGON ((1026308.770 256767.698, 1026495.593 ...  \n",
       "3        Manhattan  POLYGON ((992073.467 203714.076, 992068.667 20...  \n",
       "4    Staten Island  POLYGON ((935843.310 144283.336, 936046.565 14...  \n",
       "..             ...                                                ...  \n",
       "258          Bronx  POLYGON ((1025414.782 270986.139, 1025138.624 ...  \n",
       "259         Queens  POLYGON ((1011466.966 216463.005, 1011545.889 ...  \n",
       "260      Manhattan  POLYGON ((980555.204 196138.486, 980570.792 19...  \n",
       "261      Manhattan  MULTIPOLYGON (((999804.795 224498.527, 999824....  \n",
       "262      Manhattan  POLYGON ((997493.323 220912.386, 997355.264 22...  \n",
       "\n",
       "[263 rows x 7 columns]"
      ]
     },
     "execution_count": 23,
     "metadata": {},
     "output_type": "execute_result"
    }
   ],
   "source": [
    "import geopandas as gpd\n",
    "shapefile = gpd.read_file(\"taxi_zones/taxi_zones.shp\")\n",
    "shapefile"
   ]
  },
  {
   "cell_type": "markdown",
   "id": "d895979d-9c85-4bcc-917a-4dfddca2f144",
   "metadata": {},
   "source": [
    "According to the shapefile \"taxi_zones.shp\" above, the highest objectID, which is the pickup location ID and drop off location ID, is 263. Therefore, in the Cleaning & filtering step, we remove the IDs that are greater than 263."
   ]
  },
  {
   "cell_type": "code",
   "execution_count": 27,
   "id": "6520a9e8-07f1-438c-9603-042bb8e36c00",
   "metadata": {},
   "outputs": [
    {
     "name": "stderr",
     "output_type": "stream",
     "text": [
      "/var/folders/sl/ygvmf08n6s5cz73c1jv6rbnw0000gn/T/ipykernel_26756/3792372224.py:3: UserWarning: Geometry is in a geographic CRS. Results from 'centroid' are likely incorrect. Use 'GeoSeries.to_crs()' to re-project geometries to a projected CRS before this operation.\n",
      "\n",
      "  nc_counties['lon'] = nc_counties.centroid.x\n"
     ]
    }
   ],
   "source": [
    "nc_counties = shapefile['geometry']\n",
    "nc_counties = nc_counties.to_crs(4326)\n",
    "nc_counties['lon'] = nc_counties.centroid.x\n",
    "#nc_counties['lat'] = nc_counties.centroid.y"
   ]
  },
  {
   "cell_type": "code",
   "execution_count": null,
   "id": "a57f7615-d92e-401e-afe9-73881acae40e",
   "metadata": {},
   "outputs": [],
   "source": []
  }
 ],
 "metadata": {
  "kernelspec": {
   "display_name": "Python 3 (ipykernel)",
   "language": "python",
   "name": "python3"
  },
  "language_info": {
   "codemirror_mode": {
    "name": "ipython",
    "version": 3
   },
   "file_extension": ".py",
   "mimetype": "text/x-python",
   "name": "python",
   "nbconvert_exporter": "python",
   "pygments_lexer": "ipython3",
   "version": "3.9.12"
  }
 },
 "nbformat": 4,
 "nbformat_minor": 5
}
